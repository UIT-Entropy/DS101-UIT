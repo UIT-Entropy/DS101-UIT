{
  "nbformat": 4,
  "nbformat_minor": 0,
  "metadata": {
    "colab": {
      "provenance": []
    },
    "kernelspec": {
      "name": "python3",
      "display_name": "Python 3"
    },
    "language_info": {
      "name": "python"
    }
  },
  "cells": [
    {
      "cell_type": "markdown",
      "source": [
        "# ***Syntax cơ bản trong python***"
      ],
      "metadata": {
        "id": "bUUFiBpm2tGZ"
      }
    },
    {
      "cell_type": "code",
      "source": [
        " a = 3\n",
        " b = 7\n",
        " print (a + b, a - b, a*b, a/b, a//b, a%b, a**b)"
      ],
      "metadata": {
        "colab": {
          "base_uri": "https://localhost:8080/"
        },
        "id": "u6HbUQGrybBt",
        "outputId": "6ecc12c4-8fd3-4f54-9de9-caf1ddd20e25"
      },
      "execution_count": 1,
      "outputs": [
        {
          "output_type": "stream",
          "name": "stdout",
          "text": [
            "10 -4 21 0.42857142857142855 0 3 2187\n"
          ]
        }
      ]
    },
    {
      "cell_type": "code",
      "execution_count": 2,
      "metadata": {
        "colab": {
          "base_uri": "https://localhost:8080/"
        },
        "id": "hyN3lnHfvaRz",
        "outputId": "57c9e446-cbbc-4943-ec84-50d1a49f0e89"
      },
      "outputs": [
        {
          "output_type": "stream",
          "name": "stdout",
          "text": [
            "1\n"
          ]
        }
      ],
      "source": [
        "x = 6\n",
        "if x < 7:\n",
        "  print(1)\n",
        "elif x < 10:\n",
        "  print(2)\n",
        "else:\n",
        "  print(3)"
      ]
    },
    {
      "cell_type": "code",
      "source": [
        "MonHoc = [\"DS101\", \"IT005\", \"IT010\", \"...\"]\n",
        "for mon in MonHoc:\n",
        "  print(\"toi thich \", mon)"
      ],
      "metadata": {
        "colab": {
          "base_uri": "https://localhost:8080/"
        },
        "id": "QW4Bpm7My-mT",
        "outputId": "c99454e3-a9d6-44ef-cc50-766aeeb27062"
      },
      "execution_count": 3,
      "outputs": [
        {
          "output_type": "stream",
          "name": "stdout",
          "text": [
            "toi thich  DS101\n",
            "toi thich  IT005\n",
            "toi thich  IT010\n",
            "toi thich  ...\n"
          ]
        }
      ]
    },
    {
      "cell_type": "code",
      "source": [
        "count = 0\n",
        "while count < 5:\n",
        "  print(count, end = \" \")\n",
        "  count+=1"
      ],
      "metadata": {
        "colab": {
          "base_uri": "https://localhost:8080/"
        },
        "id": "IBunCupozSu5",
        "outputId": "c0b11f68-fe3c-4869-f176-a61c453dccf9"
      },
      "execution_count": 4,
      "outputs": [
        {
          "output_type": "stream",
          "name": "stdout",
          "text": [
            "0 1 2 3 4 "
          ]
        }
      ]
    },
    {
      "cell_type": "code",
      "source": [
        "def TinhTong(a, b):\n",
        "  return a+b\n",
        "print(\"tong cua 3 va 4 la: \", TinhTong(3,4))"
      ],
      "metadata": {
        "colab": {
          "base_uri": "https://localhost:8080/"
        },
        "id": "jHcYVGhGzfhI",
        "outputId": "4146aebc-0228-41f4-d6dc-ebf16b1c2a32"
      },
      "execution_count": 5,
      "outputs": [
        {
          "output_type": "stream",
          "name": "stdout",
          "text": [
            "tong cua 3 va 4 la:  7\n"
          ]
        }
      ]
    },
    {
      "cell_type": "code",
      "source": [
        "so_chan = [x for x in range (1,100) if x%2 == 0]\n",
        "print(so_chan)"
      ],
      "metadata": {
        "colab": {
          "base_uri": "https://localhost:8080/"
        },
        "id": "iZpjKiLrzygr",
        "outputId": "d7221844-6cf7-4185-b482-fd1cfd043988"
      },
      "execution_count": 6,
      "outputs": [
        {
          "output_type": "stream",
          "name": "stdout",
          "text": [
            "[2, 4, 6, 8, 10, 12, 14, 16, 18, 20, 22, 24, 26, 28, 30, 32, 34, 36, 38, 40, 42, 44, 46, 48, 50, 52, 54, 56, 58, 60, 62, 64, 66, 68, 70, 72, 74, 76, 78, 80, 82, 84, 86, 88, 90, 92, 94, 96, 98]\n"
          ]
        }
      ]
    },
    {
      "cell_type": "code",
      "source": [
        "lst = [1, 1, 2, 2, 3, 4, 5, 6]\n",
        "lst.append(1)\n",
        "lst.remove(2)\n",
        "print(lst)\n",
        "st = set(lst)\n",
        "print(st)\n",
        "sorted(lst)"
      ],
      "metadata": {
        "colab": {
          "base_uri": "https://localhost:8080/"
        },
        "id": "H0C8MxRR10PZ",
        "outputId": "2448a13e-03b8-435b-d094-5557e9ba830a"
      },
      "execution_count": 7,
      "outputs": [
        {
          "output_type": "stream",
          "name": "stdout",
          "text": [
            "[1, 1, 2, 3, 4, 5, 6, 1]\n",
            "{1, 2, 3, 4, 5, 6}\n"
          ]
        },
        {
          "output_type": "execute_result",
          "data": {
            "text/plain": [
              "[1, 1, 1, 2, 3, 4, 5, 6]"
            ]
          },
          "metadata": {},
          "execution_count": 7
        }
      ]
    },
    {
      "cell_type": "code",
      "source": [
        "student = {\"name\" : \"Quan\", \"age\" : \"19\"}\n",
        "print(\"name\", student[\"name\"])\n",
        "print(\"age\", student[\"age\"])\n",
        "for k,v in student.items():\n",
        "  print(k, \":\", v)"
      ],
      "metadata": {
        "colab": {
          "base_uri": "https://localhost:8080/"
        },
        "id": "miZ-vYR7z-NJ",
        "outputId": "d3221e76-cf20-4df9-9144-4dc06ed53057"
      },
      "execution_count": 8,
      "outputs": [
        {
          "output_type": "stream",
          "name": "stdout",
          "text": [
            "name Quan\n",
            "age 19\n",
            "name : Quan\n",
            "age : 19\n"
          ]
        }
      ]
    },
    {
      "cell_type": "code",
      "source": [
        "class vehicle:\n",
        "  def __init__(self, name):\n",
        "    self.name = name\n",
        "  def vec_name(self):\n",
        "    print(\"ten xe la:\", self.name)\n",
        "#tính kế thừa:\n",
        "class car(vehicle):\n",
        "  def __init__(self, name, color):\n",
        "    super().__init__(name)\n",
        "    self.color = color\n",
        "  def car_color(self):\n",
        "    print(f\"mau xe la: {self.color}\")\n",
        "class bike(vehicle):\n",
        "  def __init__(self, name, color, speed):\n",
        "    super().__init__(name)\n",
        "    self.color = color\n",
        "    self.speed = speed\n",
        "  def info(self):\n",
        "    print(f\"ten xe: {self.name}, mau xe: {self.color}, toc do toi da: {self.speed}\")\n",
        "vec = [car(\"merc\", \"red\"), bike(\"toyota\", \"blue\", 400)]"
      ],
      "metadata": {
        "id": "Ys-BGkb3hko-"
      },
      "execution_count": 84,
      "outputs": []
    },
    {
      "cell_type": "markdown",
      "source": [
        "# ***Syntax cơ bản với framework numpy***"
      ],
      "metadata": {
        "id": "HtkA5-8_3R94"
      }
    },
    {
      "cell_type": "code",
      "source": [
        "!pip install numpy"
      ],
      "metadata": {
        "colab": {
          "base_uri": "https://localhost:8080/"
        },
        "id": "Ko65xt0q3Ysn",
        "outputId": "799def36-4a37-4e5e-eea2-fd707d0f7ec2"
      },
      "execution_count": 9,
      "outputs": [
        {
          "output_type": "stream",
          "name": "stdout",
          "text": [
            "Requirement already satisfied: numpy in /usr/local/lib/python3.12/dist-packages (2.0.2)\n"
          ]
        }
      ]
    },
    {
      "cell_type": "code",
      "source": [
        "import numpy as np"
      ],
      "metadata": {
        "id": "QPr26eo83hSx"
      },
      "execution_count": 10,
      "outputs": []
    },
    {
      "cell_type": "code",
      "source": [
        "arr = np.array([[1,2,3], [4, 5, 6]])\n",
        "print(\"mang: \", arr)\n",
        "print(\"kieu: \", arr.dtype)"
      ],
      "metadata": {
        "colab": {
          "base_uri": "https://localhost:8080/"
        },
        "id": "Z1O0Z2OJ4Idv",
        "outputId": "e4c36959-9a11-49e6-94b2-55d27a2413aa"
      },
      "execution_count": 11,
      "outputs": [
        {
          "output_type": "stream",
          "name": "stdout",
          "text": [
            "mang:  [[1 2 3]\n",
            " [4 5 6]]\n",
            "kieu:  int64\n"
          ]
        }
      ]
    },
    {
      "cell_type": "code",
      "source": [
        "print(np.zeros((3,3)))\n",
        "print(np.ones((2,4)))\n",
        "print(np.eye(2))"
      ],
      "metadata": {
        "colab": {
          "base_uri": "https://localhost:8080/"
        },
        "id": "KZM4wtjZ4VI3",
        "outputId": "e0d13f2f-5a89-4a84-ac36-2c6996b1a7f7"
      },
      "execution_count": 12,
      "outputs": [
        {
          "output_type": "stream",
          "name": "stdout",
          "text": [
            "[[0. 0. 0.]\n",
            " [0. 0. 0.]\n",
            " [0. 0. 0.]]\n",
            "[[1. 1. 1. 1.]\n",
            " [1. 1. 1. 1.]]\n",
            "[[1. 0.]\n",
            " [0. 1.]]\n"
          ]
        }
      ]
    },
    {
      "cell_type": "code",
      "source": [
        "arr = np.eye(6)\n",
        "print(arr[0])\n",
        "print(arr[-1])\n",
        "print(arr[0:3])"
      ],
      "metadata": {
        "colab": {
          "base_uri": "https://localhost:8080/"
        },
        "id": "nT2fEBPn48rx",
        "outputId": "3c1ac139-ab64-43c9-e7be-27f596fe5932"
      },
      "execution_count": 13,
      "outputs": [
        {
          "output_type": "stream",
          "name": "stdout",
          "text": [
            "[1. 0. 0. 0. 0. 0.]\n",
            "[0. 0. 0. 0. 0. 1.]\n",
            "[[1. 0. 0. 0. 0. 0.]\n",
            " [0. 1. 0. 0. 0. 0.]\n",
            " [0. 0. 1. 0. 0. 0.]]\n"
          ]
        }
      ]
    },
    {
      "cell_type": "code",
      "source": [
        "a= np.array([1, 2, 3, 4])\n",
        "b= np.array([5,6,7,8])\n",
        "print(a+b)\n",
        "print(a-b)\n",
        "print(a*b)\n",
        "print(a/b)\n",
        "print(a**2)\n",
        "print(np.sqrt(a))"
      ],
      "metadata": {
        "colab": {
          "base_uri": "https://localhost:8080/"
        },
        "id": "kOP6-fTF5eiR",
        "outputId": "51ef2241-ef6f-4ccd-e829-a721a6e96262"
      },
      "execution_count": 14,
      "outputs": [
        {
          "output_type": "stream",
          "name": "stdout",
          "text": [
            "[ 6  8 10 12]\n",
            "[-4 -4 -4 -4]\n",
            "[ 5 12 21 32]\n",
            "[0.2        0.33333333 0.42857143 0.5       ]\n",
            "[ 1  4  9 16]\n",
            "[1.         1.41421356 1.73205081 2.        ]\n"
          ]
        }
      ]
    },
    {
      "cell_type": "code",
      "source": [
        "dt = np.array([1,2,3,3,4,5,6,6,7,8,9,9,10,11])\n",
        "print(\"trung bình:\", np.mean(dt))\n",
        "print(\"trung vị:\", np.median(dt))\n",
        "print(\"độ lệch chuẩn:\", np.std(dt))\n",
        "print(\"phương sai:\", np.var(dt))\n",
        "print(np.shape(dt))"
      ],
      "metadata": {
        "colab": {
          "base_uri": "https://localhost:8080/"
        },
        "id": "DSEue8PZ6Yp5",
        "outputId": "25d724f1-b055-4c9d-fcc4-6c6e9a02d8ae"
      },
      "execution_count": 15,
      "outputs": [
        {
          "output_type": "stream",
          "name": "stdout",
          "text": [
            "trung bình: 6.0\n",
            "trung vị: 6.0\n",
            "độ lệch chuẩn: 3.0237157840738176\n",
            "phương sai: 9.142857142857142\n",
            "(14,)\n"
          ]
        }
      ]
    },
    {
      "cell_type": "code",
      "source": [
        "a = np.array(([1,2],[3,4]))\n",
        "b = np.array(([5,6],[7,8]))\n",
        "\n",
        "print(\"tich ma tran: \", np.dot(a,b))\n",
        "print(\"ma trận chuyển vị \", a.T)\n",
        "print(\"Định thức\",  np.linalg.det(a))\n",
        "print(\"ma trận nghịch đảo:\", np.linalg.inv(a))\n",
        "print(\"hạng ma trận\", np.linalg.matrix_rank(a))\n",
        "x,y = np.linalg.eig(a)\n",
        "print(\"vector riêng\", x)\n",
        "print(\"vector riêng\", y)"
      ],
      "metadata": {
        "colab": {
          "base_uri": "https://localhost:8080/"
        },
        "id": "OR8gR_kP7Jq5",
        "outputId": "f4b811c7-2aa9-4ff6-9188-5164f8c68139"
      },
      "execution_count": 16,
      "outputs": [
        {
          "output_type": "stream",
          "name": "stdout",
          "text": [
            "tich ma tran:  [[19 22]\n",
            " [43 50]]\n",
            "ma trận chuyển vị  [[1 3]\n",
            " [2 4]]\n",
            "Định thức -2.0000000000000004\n",
            "ma trận nghịch đảo: [[-2.   1. ]\n",
            " [ 1.5 -0.5]]\n",
            "hạng ma trận 2\n",
            "vector riêng [-0.37228132  5.37228132]\n",
            "vector riêng [[-0.82456484 -0.41597356]\n",
            " [ 0.56576746 -0.90937671]]\n"
          ]
        }
      ]
    },
    {
      "cell_type": "markdown",
      "source": [
        "# ***Syntax cơ bản với framework pandas***"
      ],
      "metadata": {
        "id": "hcSMkfphwGwd"
      }
    },
    {
      "cell_type": "code",
      "source": [
        "!pip install pandas"
      ],
      "metadata": {
        "colab": {
          "base_uri": "https://localhost:8080/"
        },
        "id": "4E-l5yv_wOHt",
        "outputId": "3f522f62-3b1e-45ee-9241-6deba24a4c11"
      },
      "execution_count": 17,
      "outputs": [
        {
          "output_type": "stream",
          "name": "stdout",
          "text": [
            "Requirement already satisfied: pandas in /usr/local/lib/python3.12/dist-packages (2.2.2)\n",
            "Requirement already satisfied: numpy>=1.26.0 in /usr/local/lib/python3.12/dist-packages (from pandas) (2.0.2)\n",
            "Requirement already satisfied: python-dateutil>=2.8.2 in /usr/local/lib/python3.12/dist-packages (from pandas) (2.9.0.post0)\n",
            "Requirement already satisfied: pytz>=2020.1 in /usr/local/lib/python3.12/dist-packages (from pandas) (2025.2)\n",
            "Requirement already satisfied: tzdata>=2022.7 in /usr/local/lib/python3.12/dist-packages (from pandas) (2025.2)\n",
            "Requirement already satisfied: six>=1.5 in /usr/local/lib/python3.12/dist-packages (from python-dateutil>=2.8.2->pandas) (1.17.0)\n"
          ]
        }
      ]
    },
    {
      "cell_type": "code",
      "source": [
        "import pandas as pd"
      ],
      "metadata": {
        "id": "20f2rn-Awg8F"
      },
      "execution_count": 18,
      "outputs": []
    },
    {
      "cell_type": "code",
      "source": [
        "df = pd.Series([10,20,30], index = (\"a\", \"b\", \"c\"))\n",
        "print(df)\n",
        "print(df[\"a\"], df[1])"
      ],
      "metadata": {
        "colab": {
          "base_uri": "https://localhost:8080/"
        },
        "id": "jTQWdxcgwi_u",
        "outputId": "492aeb22-37e8-4136-d438-7ac7beca05ba"
      },
      "execution_count": 19,
      "outputs": [
        {
          "output_type": "stream",
          "name": "stdout",
          "text": [
            "a    10\n",
            "b    20\n",
            "c    30\n",
            "dtype: int64\n",
            "10 20\n"
          ]
        },
        {
          "output_type": "stream",
          "name": "stderr",
          "text": [
            "/tmp/ipython-input-519967929.py:3: FutureWarning: Series.__getitem__ treating keys as positions is deprecated. In a future version, integer keys will always be treated as labels (consistent with DataFrame behavior). To access a value by position, use `ser.iloc[pos]`\n",
            "  print(df[\"a\"], df[1])\n"
          ]
        }
      ]
    },
    {
      "cell_type": "code",
      "source": [
        "df = {\n",
        "    \"Name\" : [\"Quan\", \"Quang\", \"Quy\", \"Qoanh\"],\n",
        "    \"Age\" : [19, 18, 20, 21],\n",
        "    \"Score\" : [10, 9, 8 , 7]\n",
        "}\n",
        "data = pd.DataFrame(df)\n",
        "print(data)"
      ],
      "metadata": {
        "colab": {
          "base_uri": "https://localhost:8080/"
        },
        "id": "gBCakh0qxkzz",
        "outputId": "240b56af-582a-41ae-868d-85537123bdae"
      },
      "execution_count": 20,
      "outputs": [
        {
          "output_type": "stream",
          "name": "stdout",
          "text": [
            "    Name  Age  Score\n",
            "0   Quan   19     10\n",
            "1  Quang   18      9\n",
            "2    Quy   20      8\n",
            "3  Qoanh   21      7\n"
          ]
        }
      ]
    },
    {
      "cell_type": "code",
      "source": [
        "from google.colab import drive\n",
        "drive.mount(\"/content/drive\")"
      ],
      "metadata": {
        "id": "NqxlETp0zbQX",
        "colab": {
          "base_uri": "https://localhost:8080/"
        },
        "outputId": "09ce161c-8edc-4a3b-b3ea-3d77387738b6"
      },
      "execution_count": 21,
      "outputs": [
        {
          "output_type": "stream",
          "name": "stdout",
          "text": [
            "Mounted at /content/drive\n"
          ]
        }
      ]
    },
    {
      "cell_type": "code",
      "source": [
        "df = pd.read_csv(\"/content/drive/MyDrive/kc_house_data.csv\")\n",
        "df.to_excel(\"test.xlsx\", index = False)"
      ],
      "metadata": {
        "id": "xRqkICRwcOYI"
      },
      "execution_count": 22,
      "outputs": []
    },
    {
      "cell_type": "code",
      "source": [
        "print(df.head(1))\n",
        "print(df.tail(1))\n",
        "print(df.info())\n",
        "print(df.describe())"
      ],
      "metadata": {
        "colab": {
          "base_uri": "https://localhost:8080/"
        },
        "id": "Bh9oujwHdMyn",
        "outputId": "615b6229-6609-4a01-ffa1-dbef5dad5344"
      },
      "execution_count": 23,
      "outputs": [
        {
          "output_type": "stream",
          "name": "stdout",
          "text": [
            "           id             date     price  bedrooms  bathrooms  sqft_living  \\\n",
            "0  7129300520  20141013T000000  221900.0         3        1.0         1180   \n",
            "\n",
            "   sqft_lot  floors  waterfront  view  ...  grade  sqft_above  sqft_basement  \\\n",
            "0      5650     1.0           0     0  ...      7        1180              0   \n",
            "\n",
            "   yr_built  yr_renovated  zipcode      lat     long  sqft_living15  \\\n",
            "0      1955             0    98178  47.5112 -122.257           1340   \n",
            "\n",
            "   sqft_lot15  \n",
            "0        5650  \n",
            "\n",
            "[1 rows x 21 columns]\n",
            "               id             date     price  bedrooms  bathrooms  \\\n",
            "21612  1523300157  20141015T000000  325000.0         2       0.75   \n",
            "\n",
            "       sqft_living  sqft_lot  floors  waterfront  view  ...  grade  \\\n",
            "21612         1020      1076     2.0           0     0  ...      7   \n",
            "\n",
            "       sqft_above  sqft_basement  yr_built  yr_renovated  zipcode      lat  \\\n",
            "21612        1020              0      2008             0    98144  47.5941   \n",
            "\n",
            "          long  sqft_living15  sqft_lot15  \n",
            "21612 -122.299           1020        1357  \n",
            "\n",
            "[1 rows x 21 columns]\n",
            "<class 'pandas.core.frame.DataFrame'>\n",
            "RangeIndex: 21613 entries, 0 to 21612\n",
            "Data columns (total 21 columns):\n",
            " #   Column         Non-Null Count  Dtype  \n",
            "---  ------         --------------  -----  \n",
            " 0   id             21613 non-null  int64  \n",
            " 1   date           21613 non-null  object \n",
            " 2   price          21613 non-null  float64\n",
            " 3   bedrooms       21613 non-null  int64  \n",
            " 4   bathrooms      21613 non-null  float64\n",
            " 5   sqft_living    21613 non-null  int64  \n",
            " 6   sqft_lot       21613 non-null  int64  \n",
            " 7   floors         21613 non-null  float64\n",
            " 8   waterfront     21613 non-null  int64  \n",
            " 9   view           21613 non-null  int64  \n",
            " 10  condition      21613 non-null  int64  \n",
            " 11  grade          21613 non-null  int64  \n",
            " 12  sqft_above     21613 non-null  int64  \n",
            " 13  sqft_basement  21613 non-null  int64  \n",
            " 14  yr_built       21613 non-null  int64  \n",
            " 15  yr_renovated   21613 non-null  int64  \n",
            " 16  zipcode        21613 non-null  int64  \n",
            " 17  lat            21613 non-null  float64\n",
            " 18  long           21613 non-null  float64\n",
            " 19  sqft_living15  21613 non-null  int64  \n",
            " 20  sqft_lot15     21613 non-null  int64  \n",
            "dtypes: float64(5), int64(15), object(1)\n",
            "memory usage: 3.5+ MB\n",
            "None\n",
            "                 id         price      bedrooms     bathrooms   sqft_living  \\\n",
            "count  2.161300e+04  2.161300e+04  21613.000000  21613.000000  21613.000000   \n",
            "mean   4.580302e+09  5.400881e+05      3.370842      2.114757   2079.899736   \n",
            "std    2.876566e+09  3.671272e+05      0.930062      0.770163    918.440897   \n",
            "min    1.000102e+06  7.500000e+04      0.000000      0.000000    290.000000   \n",
            "25%    2.123049e+09  3.219500e+05      3.000000      1.750000   1427.000000   \n",
            "50%    3.904930e+09  4.500000e+05      3.000000      2.250000   1910.000000   \n",
            "75%    7.308900e+09  6.450000e+05      4.000000      2.500000   2550.000000   \n",
            "max    9.900000e+09  7.700000e+06     33.000000      8.000000  13540.000000   \n",
            "\n",
            "           sqft_lot        floors    waterfront          view     condition  \\\n",
            "count  2.161300e+04  21613.000000  21613.000000  21613.000000  21613.000000   \n",
            "mean   1.510697e+04      1.494309      0.007542      0.234303      3.409430   \n",
            "std    4.142051e+04      0.539989      0.086517      0.766318      0.650743   \n",
            "min    5.200000e+02      1.000000      0.000000      0.000000      1.000000   \n",
            "25%    5.040000e+03      1.000000      0.000000      0.000000      3.000000   \n",
            "50%    7.618000e+03      1.500000      0.000000      0.000000      3.000000   \n",
            "75%    1.068800e+04      2.000000      0.000000      0.000000      4.000000   \n",
            "max    1.651359e+06      3.500000      1.000000      4.000000      5.000000   \n",
            "\n",
            "              grade    sqft_above  sqft_basement      yr_built  yr_renovated  \\\n",
            "count  21613.000000  21613.000000   21613.000000  21613.000000  21613.000000   \n",
            "mean       7.656873   1788.390691     291.509045   1971.005136     84.402258   \n",
            "std        1.175459    828.090978     442.575043     29.373411    401.679240   \n",
            "min        1.000000    290.000000       0.000000   1900.000000      0.000000   \n",
            "25%        7.000000   1190.000000       0.000000   1951.000000      0.000000   \n",
            "50%        7.000000   1560.000000       0.000000   1975.000000      0.000000   \n",
            "75%        8.000000   2210.000000     560.000000   1997.000000      0.000000   \n",
            "max       13.000000   9410.000000    4820.000000   2015.000000   2015.000000   \n",
            "\n",
            "            zipcode           lat          long  sqft_living15     sqft_lot15  \n",
            "count  21613.000000  21613.000000  21613.000000   21613.000000   21613.000000  \n",
            "mean   98077.939805     47.560053   -122.213896    1986.552492   12768.455652  \n",
            "std       53.505026      0.138564      0.140828     685.391304   27304.179631  \n",
            "min    98001.000000     47.155900   -122.519000     399.000000     651.000000  \n",
            "25%    98033.000000     47.471000   -122.328000    1490.000000    5100.000000  \n",
            "50%    98065.000000     47.571800   -122.230000    1840.000000    7620.000000  \n",
            "75%    98118.000000     47.678000   -122.125000    2360.000000   10083.000000  \n",
            "max    98199.000000     47.777600   -121.315000    6210.000000  871200.000000  \n"
          ]
        }
      ]
    },
    {
      "cell_type": "code",
      "source": [
        "print(df[\"price\"])\n",
        "print(df[[\"price\", \"id\"]])"
      ],
      "metadata": {
        "colab": {
          "base_uri": "https://localhost:8080/"
        },
        "id": "divbViTjdW-P",
        "outputId": "d7e5daac-d623-4c89-f92a-844adc3d6d6e"
      },
      "execution_count": 24,
      "outputs": [
        {
          "output_type": "stream",
          "name": "stdout",
          "text": [
            "0        221900.0\n",
            "1        538000.0\n",
            "2        180000.0\n",
            "3        604000.0\n",
            "4        510000.0\n",
            "           ...   \n",
            "21608    360000.0\n",
            "21609    400000.0\n",
            "21610    402101.0\n",
            "21611    400000.0\n",
            "21612    325000.0\n",
            "Name: price, Length: 21613, dtype: float64\n",
            "          price          id\n",
            "0      221900.0  7129300520\n",
            "1      538000.0  6414100192\n",
            "2      180000.0  5631500400\n",
            "3      604000.0  2487200875\n",
            "4      510000.0  1954400510\n",
            "...         ...         ...\n",
            "21608  360000.0   263000018\n",
            "21609  400000.0  6600060120\n",
            "21610  402101.0  1523300141\n",
            "21611  400000.0   291310100\n",
            "21612  325000.0  1523300157\n",
            "\n",
            "[21613 rows x 2 columns]\n"
          ]
        }
      ]
    },
    {
      "cell_type": "code",
      "source": [
        "print(df.iloc[0, [1,2,3]]) #dùng index để chỉ hàng số mấy, cột số mấy\n",
        "print(df.loc[[0,1,2], [\"id\", \"price\"]]) #để dùng thì dùng cái tên cột"
      ],
      "metadata": {
        "colab": {
          "base_uri": "https://localhost:8080/"
        },
        "id": "ZqKwc8tXd7T3",
        "outputId": "b70ea35f-5142-4a3f-f8de-b352486ff474"
      },
      "execution_count": 25,
      "outputs": [
        {
          "output_type": "stream",
          "name": "stdout",
          "text": [
            "date        20141013T000000\n",
            "price              221900.0\n",
            "bedrooms                  3\n",
            "Name: 0, dtype: object\n",
            "           id     price\n",
            "0  7129300520  221900.0\n",
            "1  6414100192  538000.0\n",
            "2  5631500400  180000.0\n"
          ]
        }
      ]
    },
    {
      "cell_type": "code",
      "source": [
        "df[\"new_col\"] = (df[\"price\"] - np.mean(df[\"price\"]))/np.std(df[\"price\"])\n",
        "print(df.head(3))"
      ],
      "metadata": {
        "colab": {
          "base_uri": "https://localhost:8080/"
        },
        "id": "6W9vsEARfhPv",
        "outputId": "b96a7c07-88fa-4b16-8bbb-692760c59d32"
      },
      "execution_count": 26,
      "outputs": [
        {
          "output_type": "stream",
          "name": "stdout",
          "text": [
            "           id             date     price  bedrooms  bathrooms  sqft_living  \\\n",
            "0  7129300520  20141013T000000  221900.0         3       1.00         1180   \n",
            "1  6414100192  20141209T000000  538000.0         3       2.25         2570   \n",
            "2  5631500400  20150225T000000  180000.0         2       1.00          770   \n",
            "\n",
            "   sqft_lot  floors  waterfront  view  ...  sqft_above  sqft_basement  \\\n",
            "0      5650     1.0           0     0  ...        1180              0   \n",
            "1      7242     2.0           0     0  ...        2170            400   \n",
            "2     10000     1.0           0     0  ...         770              0   \n",
            "\n",
            "   yr_built  yr_renovated  zipcode      lat     long  sqft_living15  \\\n",
            "0      1955             0    98178  47.5112 -122.257           1340   \n",
            "1      1951          1991    98125  47.7210 -122.319           1690   \n",
            "2      1933             0    98028  47.7379 -122.233           2720   \n",
            "\n",
            "   sqft_lot15   new_col  \n",
            "0        5650 -0.866717  \n",
            "1        7639 -0.005688  \n",
            "2        8062 -0.980849  \n",
            "\n",
            "[3 rows x 22 columns]\n"
          ]
        }
      ]
    },
    {
      "cell_type": "code",
      "source": [
        "df2 = df.drop(\"new_col\", axis = 1)\n",
        "print(df2.head(3))\n",
        "df.drop(index = [2,3], inplace= True)\n",
        "print(df2.head(3))"
      ],
      "metadata": {
        "colab": {
          "base_uri": "https://localhost:8080/"
        },
        "id": "LeOkh8qSvPxY",
        "outputId": "7715a272-8ca1-4f85-f279-3093ae89d1f6"
      },
      "execution_count": 27,
      "outputs": [
        {
          "output_type": "stream",
          "name": "stdout",
          "text": [
            "           id             date     price  bedrooms  bathrooms  sqft_living  \\\n",
            "0  7129300520  20141013T000000  221900.0         3       1.00         1180   \n",
            "1  6414100192  20141209T000000  538000.0         3       2.25         2570   \n",
            "2  5631500400  20150225T000000  180000.0         2       1.00          770   \n",
            "\n",
            "   sqft_lot  floors  waterfront  view  ...  grade  sqft_above  sqft_basement  \\\n",
            "0      5650     1.0           0     0  ...      7        1180              0   \n",
            "1      7242     2.0           0     0  ...      7        2170            400   \n",
            "2     10000     1.0           0     0  ...      6         770              0   \n",
            "\n",
            "   yr_built  yr_renovated  zipcode      lat     long  sqft_living15  \\\n",
            "0      1955             0    98178  47.5112 -122.257           1340   \n",
            "1      1951          1991    98125  47.7210 -122.319           1690   \n",
            "2      1933             0    98028  47.7379 -122.233           2720   \n",
            "\n",
            "   sqft_lot15  \n",
            "0        5650  \n",
            "1        7639  \n",
            "2        8062  \n",
            "\n",
            "[3 rows x 21 columns]\n",
            "           id             date     price  bedrooms  bathrooms  sqft_living  \\\n",
            "0  7129300520  20141013T000000  221900.0         3       1.00         1180   \n",
            "1  6414100192  20141209T000000  538000.0         3       2.25         2570   \n",
            "2  5631500400  20150225T000000  180000.0         2       1.00          770   \n",
            "\n",
            "   sqft_lot  floors  waterfront  view  ...  grade  sqft_above  sqft_basement  \\\n",
            "0      5650     1.0           0     0  ...      7        1180              0   \n",
            "1      7242     2.0           0     0  ...      7        2170            400   \n",
            "2     10000     1.0           0     0  ...      6         770              0   \n",
            "\n",
            "   yr_built  yr_renovated  zipcode      lat     long  sqft_living15  \\\n",
            "0      1955             0    98178  47.5112 -122.257           1340   \n",
            "1      1951          1991    98125  47.7210 -122.319           1690   \n",
            "2      1933             0    98028  47.7379 -122.233           2720   \n",
            "\n",
            "   sqft_lot15  \n",
            "0        5650  \n",
            "1        7639  \n",
            "2        8062  \n",
            "\n",
            "[3 rows x 21 columns]\n"
          ]
        }
      ]
    },
    {
      "cell_type": "code",
      "source": [
        "df2 = df2[df2[\"price\"] > 1000000]\n",
        "df2.head(3)\n",
        "\n",
        "#Hoặc có thể drop bằng cách cho điều kiện trước\n",
        "id = df2[df2[\"price\"] > 10000000].index\n",
        "df2.drop(index = id, inplace = True)\n",
        "df2.head(3)"
      ],
      "metadata": {
        "colab": {
          "base_uri": "https://localhost:8080/",
          "height": 193
        },
        "id": "n3r5LI0EvsZK",
        "outputId": "48eb5558-e4c7-4949-ffaf-0e533f859198"
      },
      "execution_count": 28,
      "outputs": [
        {
          "output_type": "execute_result",
          "data": {
            "text/plain": [
              "            id             date      price  bedrooms  bathrooms  sqft_living  \\\n",
              "5   7237550310  20140512T000000  1225000.0         4       4.50         5420   \n",
              "21  2524049179  20140826T000000  2000000.0         3       2.75         3050   \n",
              "49   822039084  20150311T000000  1350000.0         3       2.50         2753   \n",
              "\n",
              "    sqft_lot  floors  waterfront  view  ...  grade  sqft_above  sqft_basement  \\\n",
              "5     101930     1.0           0     0  ...     11        3890           1530   \n",
              "21     44867     1.0           0     4  ...      9        2330            720   \n",
              "49     65005     1.0           1     2  ...      9        2165            588   \n",
              "\n",
              "    yr_built  yr_renovated  zipcode      lat     long  sqft_living15  \\\n",
              "5       2001             0    98053  47.6561 -122.005           4760   \n",
              "21      1968             0    98040  47.5316 -122.233           4110   \n",
              "49      1953             0    98070  47.4041 -122.451           2680   \n",
              "\n",
              "    sqft_lot15  \n",
              "5       101930  \n",
              "21       20336  \n",
              "49       72513  \n",
              "\n",
              "[3 rows x 21 columns]"
            ],
            "text/html": [
              "\n",
              "  <div id=\"df-99f4e614-8e9c-420c-9e3b-b77097b96a68\" class=\"colab-df-container\">\n",
              "    <div>\n",
              "<style scoped>\n",
              "    .dataframe tbody tr th:only-of-type {\n",
              "        vertical-align: middle;\n",
              "    }\n",
              "\n",
              "    .dataframe tbody tr th {\n",
              "        vertical-align: top;\n",
              "    }\n",
              "\n",
              "    .dataframe thead th {\n",
              "        text-align: right;\n",
              "    }\n",
              "</style>\n",
              "<table border=\"1\" class=\"dataframe\">\n",
              "  <thead>\n",
              "    <tr style=\"text-align: right;\">\n",
              "      <th></th>\n",
              "      <th>id</th>\n",
              "      <th>date</th>\n",
              "      <th>price</th>\n",
              "      <th>bedrooms</th>\n",
              "      <th>bathrooms</th>\n",
              "      <th>sqft_living</th>\n",
              "      <th>sqft_lot</th>\n",
              "      <th>floors</th>\n",
              "      <th>waterfront</th>\n",
              "      <th>view</th>\n",
              "      <th>...</th>\n",
              "      <th>grade</th>\n",
              "      <th>sqft_above</th>\n",
              "      <th>sqft_basement</th>\n",
              "      <th>yr_built</th>\n",
              "      <th>yr_renovated</th>\n",
              "      <th>zipcode</th>\n",
              "      <th>lat</th>\n",
              "      <th>long</th>\n",
              "      <th>sqft_living15</th>\n",
              "      <th>sqft_lot15</th>\n",
              "    </tr>\n",
              "  </thead>\n",
              "  <tbody>\n",
              "    <tr>\n",
              "      <th>5</th>\n",
              "      <td>7237550310</td>\n",
              "      <td>20140512T000000</td>\n",
              "      <td>1225000.0</td>\n",
              "      <td>4</td>\n",
              "      <td>4.50</td>\n",
              "      <td>5420</td>\n",
              "      <td>101930</td>\n",
              "      <td>1.0</td>\n",
              "      <td>0</td>\n",
              "      <td>0</td>\n",
              "      <td>...</td>\n",
              "      <td>11</td>\n",
              "      <td>3890</td>\n",
              "      <td>1530</td>\n",
              "      <td>2001</td>\n",
              "      <td>0</td>\n",
              "      <td>98053</td>\n",
              "      <td>47.6561</td>\n",
              "      <td>-122.005</td>\n",
              "      <td>4760</td>\n",
              "      <td>101930</td>\n",
              "    </tr>\n",
              "    <tr>\n",
              "      <th>21</th>\n",
              "      <td>2524049179</td>\n",
              "      <td>20140826T000000</td>\n",
              "      <td>2000000.0</td>\n",
              "      <td>3</td>\n",
              "      <td>2.75</td>\n",
              "      <td>3050</td>\n",
              "      <td>44867</td>\n",
              "      <td>1.0</td>\n",
              "      <td>0</td>\n",
              "      <td>4</td>\n",
              "      <td>...</td>\n",
              "      <td>9</td>\n",
              "      <td>2330</td>\n",
              "      <td>720</td>\n",
              "      <td>1968</td>\n",
              "      <td>0</td>\n",
              "      <td>98040</td>\n",
              "      <td>47.5316</td>\n",
              "      <td>-122.233</td>\n",
              "      <td>4110</td>\n",
              "      <td>20336</td>\n",
              "    </tr>\n",
              "    <tr>\n",
              "      <th>49</th>\n",
              "      <td>822039084</td>\n",
              "      <td>20150311T000000</td>\n",
              "      <td>1350000.0</td>\n",
              "      <td>3</td>\n",
              "      <td>2.50</td>\n",
              "      <td>2753</td>\n",
              "      <td>65005</td>\n",
              "      <td>1.0</td>\n",
              "      <td>1</td>\n",
              "      <td>2</td>\n",
              "      <td>...</td>\n",
              "      <td>9</td>\n",
              "      <td>2165</td>\n",
              "      <td>588</td>\n",
              "      <td>1953</td>\n",
              "      <td>0</td>\n",
              "      <td>98070</td>\n",
              "      <td>47.4041</td>\n",
              "      <td>-122.451</td>\n",
              "      <td>2680</td>\n",
              "      <td>72513</td>\n",
              "    </tr>\n",
              "  </tbody>\n",
              "</table>\n",
              "<p>3 rows × 21 columns</p>\n",
              "</div>\n",
              "    <div class=\"colab-df-buttons\">\n",
              "\n",
              "  <div class=\"colab-df-container\">\n",
              "    <button class=\"colab-df-convert\" onclick=\"convertToInteractive('df-99f4e614-8e9c-420c-9e3b-b77097b96a68')\"\n",
              "            title=\"Convert this dataframe to an interactive table.\"\n",
              "            style=\"display:none;\">\n",
              "\n",
              "  <svg xmlns=\"http://www.w3.org/2000/svg\" height=\"24px\" viewBox=\"0 -960 960 960\">\n",
              "    <path d=\"M120-120v-720h720v720H120Zm60-500h600v-160H180v160Zm220 220h160v-160H400v160Zm0 220h160v-160H400v160ZM180-400h160v-160H180v160Zm440 0h160v-160H620v160ZM180-180h160v-160H180v160Zm440 0h160v-160H620v160Z\"/>\n",
              "  </svg>\n",
              "    </button>\n",
              "\n",
              "  <style>\n",
              "    .colab-df-container {\n",
              "      display:flex;\n",
              "      gap: 12px;\n",
              "    }\n",
              "\n",
              "    .colab-df-convert {\n",
              "      background-color: #E8F0FE;\n",
              "      border: none;\n",
              "      border-radius: 50%;\n",
              "      cursor: pointer;\n",
              "      display: none;\n",
              "      fill: #1967D2;\n",
              "      height: 32px;\n",
              "      padding: 0 0 0 0;\n",
              "      width: 32px;\n",
              "    }\n",
              "\n",
              "    .colab-df-convert:hover {\n",
              "      background-color: #E2EBFA;\n",
              "      box-shadow: 0px 1px 2px rgba(60, 64, 67, 0.3), 0px 1px 3px 1px rgba(60, 64, 67, 0.15);\n",
              "      fill: #174EA6;\n",
              "    }\n",
              "\n",
              "    .colab-df-buttons div {\n",
              "      margin-bottom: 4px;\n",
              "    }\n",
              "\n",
              "    [theme=dark] .colab-df-convert {\n",
              "      background-color: #3B4455;\n",
              "      fill: #D2E3FC;\n",
              "    }\n",
              "\n",
              "    [theme=dark] .colab-df-convert:hover {\n",
              "      background-color: #434B5C;\n",
              "      box-shadow: 0px 1px 3px 1px rgba(0, 0, 0, 0.15);\n",
              "      filter: drop-shadow(0px 1px 2px rgba(0, 0, 0, 0.3));\n",
              "      fill: #FFFFFF;\n",
              "    }\n",
              "  </style>\n",
              "\n",
              "    <script>\n",
              "      const buttonEl =\n",
              "        document.querySelector('#df-99f4e614-8e9c-420c-9e3b-b77097b96a68 button.colab-df-convert');\n",
              "      buttonEl.style.display =\n",
              "        google.colab.kernel.accessAllowed ? 'block' : 'none';\n",
              "\n",
              "      async function convertToInteractive(key) {\n",
              "        const element = document.querySelector('#df-99f4e614-8e9c-420c-9e3b-b77097b96a68');\n",
              "        const dataTable =\n",
              "          await google.colab.kernel.invokeFunction('convertToInteractive',\n",
              "                                                    [key], {});\n",
              "        if (!dataTable) return;\n",
              "\n",
              "        const docLinkHtml = 'Like what you see? Visit the ' +\n",
              "          '<a target=\"_blank\" href=https://colab.research.google.com/notebooks/data_table.ipynb>data table notebook</a>'\n",
              "          + ' to learn more about interactive tables.';\n",
              "        element.innerHTML = '';\n",
              "        dataTable['output_type'] = 'display_data';\n",
              "        await google.colab.output.renderOutput(dataTable, element);\n",
              "        const docLink = document.createElement('div');\n",
              "        docLink.innerHTML = docLinkHtml;\n",
              "        element.appendChild(docLink);\n",
              "      }\n",
              "    </script>\n",
              "  </div>\n",
              "\n",
              "\n",
              "    <div id=\"df-403c8fc9-aa69-4d4b-b766-bf5a923909a4\">\n",
              "      <button class=\"colab-df-quickchart\" onclick=\"quickchart('df-403c8fc9-aa69-4d4b-b766-bf5a923909a4')\"\n",
              "                title=\"Suggest charts\"\n",
              "                style=\"display:none;\">\n",
              "\n",
              "<svg xmlns=\"http://www.w3.org/2000/svg\" height=\"24px\"viewBox=\"0 0 24 24\"\n",
              "     width=\"24px\">\n",
              "    <g>\n",
              "        <path d=\"M19 3H5c-1.1 0-2 .9-2 2v14c0 1.1.9 2 2 2h14c1.1 0 2-.9 2-2V5c0-1.1-.9-2-2-2zM9 17H7v-7h2v7zm4 0h-2V7h2v10zm4 0h-2v-4h2v4z\"/>\n",
              "    </g>\n",
              "</svg>\n",
              "      </button>\n",
              "\n",
              "<style>\n",
              "  .colab-df-quickchart {\n",
              "      --bg-color: #E8F0FE;\n",
              "      --fill-color: #1967D2;\n",
              "      --hover-bg-color: #E2EBFA;\n",
              "      --hover-fill-color: #174EA6;\n",
              "      --disabled-fill-color: #AAA;\n",
              "      --disabled-bg-color: #DDD;\n",
              "  }\n",
              "\n",
              "  [theme=dark] .colab-df-quickchart {\n",
              "      --bg-color: #3B4455;\n",
              "      --fill-color: #D2E3FC;\n",
              "      --hover-bg-color: #434B5C;\n",
              "      --hover-fill-color: #FFFFFF;\n",
              "      --disabled-bg-color: #3B4455;\n",
              "      --disabled-fill-color: #666;\n",
              "  }\n",
              "\n",
              "  .colab-df-quickchart {\n",
              "    background-color: var(--bg-color);\n",
              "    border: none;\n",
              "    border-radius: 50%;\n",
              "    cursor: pointer;\n",
              "    display: none;\n",
              "    fill: var(--fill-color);\n",
              "    height: 32px;\n",
              "    padding: 0;\n",
              "    width: 32px;\n",
              "  }\n",
              "\n",
              "  .colab-df-quickchart:hover {\n",
              "    background-color: var(--hover-bg-color);\n",
              "    box-shadow: 0 1px 2px rgba(60, 64, 67, 0.3), 0 1px 3px 1px rgba(60, 64, 67, 0.15);\n",
              "    fill: var(--button-hover-fill-color);\n",
              "  }\n",
              "\n",
              "  .colab-df-quickchart-complete:disabled,\n",
              "  .colab-df-quickchart-complete:disabled:hover {\n",
              "    background-color: var(--disabled-bg-color);\n",
              "    fill: var(--disabled-fill-color);\n",
              "    box-shadow: none;\n",
              "  }\n",
              "\n",
              "  .colab-df-spinner {\n",
              "    border: 2px solid var(--fill-color);\n",
              "    border-color: transparent;\n",
              "    border-bottom-color: var(--fill-color);\n",
              "    animation:\n",
              "      spin 1s steps(1) infinite;\n",
              "  }\n",
              "\n",
              "  @keyframes spin {\n",
              "    0% {\n",
              "      border-color: transparent;\n",
              "      border-bottom-color: var(--fill-color);\n",
              "      border-left-color: var(--fill-color);\n",
              "    }\n",
              "    20% {\n",
              "      border-color: transparent;\n",
              "      border-left-color: var(--fill-color);\n",
              "      border-top-color: var(--fill-color);\n",
              "    }\n",
              "    30% {\n",
              "      border-color: transparent;\n",
              "      border-left-color: var(--fill-color);\n",
              "      border-top-color: var(--fill-color);\n",
              "      border-right-color: var(--fill-color);\n",
              "    }\n",
              "    40% {\n",
              "      border-color: transparent;\n",
              "      border-right-color: var(--fill-color);\n",
              "      border-top-color: var(--fill-color);\n",
              "    }\n",
              "    60% {\n",
              "      border-color: transparent;\n",
              "      border-right-color: var(--fill-color);\n",
              "    }\n",
              "    80% {\n",
              "      border-color: transparent;\n",
              "      border-right-color: var(--fill-color);\n",
              "      border-bottom-color: var(--fill-color);\n",
              "    }\n",
              "    90% {\n",
              "      border-color: transparent;\n",
              "      border-bottom-color: var(--fill-color);\n",
              "    }\n",
              "  }\n",
              "</style>\n",
              "\n",
              "      <script>\n",
              "        async function quickchart(key) {\n",
              "          const quickchartButtonEl =\n",
              "            document.querySelector('#' + key + ' button');\n",
              "          quickchartButtonEl.disabled = true;  // To prevent multiple clicks.\n",
              "          quickchartButtonEl.classList.add('colab-df-spinner');\n",
              "          try {\n",
              "            const charts = await google.colab.kernel.invokeFunction(\n",
              "                'suggestCharts', [key], {});\n",
              "          } catch (error) {\n",
              "            console.error('Error during call to suggestCharts:', error);\n",
              "          }\n",
              "          quickchartButtonEl.classList.remove('colab-df-spinner');\n",
              "          quickchartButtonEl.classList.add('colab-df-quickchart-complete');\n",
              "        }\n",
              "        (() => {\n",
              "          let quickchartButtonEl =\n",
              "            document.querySelector('#df-403c8fc9-aa69-4d4b-b766-bf5a923909a4 button');\n",
              "          quickchartButtonEl.style.display =\n",
              "            google.colab.kernel.accessAllowed ? 'block' : 'none';\n",
              "        })();\n",
              "      </script>\n",
              "    </div>\n",
              "\n",
              "    </div>\n",
              "  </div>\n"
            ],
            "application/vnd.google.colaboratory.intrinsic+json": {
              "type": "dataframe",
              "variable_name": "df2"
            }
          },
          "metadata": {},
          "execution_count": 28
        }
      ]
    },
    {
      "cell_type": "code",
      "source": [
        "df2.loc[df2[\"price\"] > 1000000, \"new_col\"] = 1\n",
        "df2.loc[df2[\"price\"] <= 1000000000, \"new_col\"] = 0\n",
        "print(df2[df2[\"new_col\"] == 0])"
      ],
      "metadata": {
        "colab": {
          "base_uri": "https://localhost:8080/"
        },
        "id": "skLScBhywgOh",
        "outputId": "a587cbfa-2139-4c58-96dc-acc31f902430"
      },
      "execution_count": 29,
      "outputs": [
        {
          "output_type": "stream",
          "name": "stdout",
          "text": [
            "               id             date      price  bedrooms  bathrooms  \\\n",
            "5      7237550310  20140512T000000  1225000.0         4       4.50   \n",
            "21     2524049179  20140826T000000  2000000.0         3       2.75   \n",
            "49      822039084  20150311T000000  1350000.0         3       2.50   \n",
            "69     1802000060  20140612T000000  1325000.0         5       2.25   \n",
            "70     1525059190  20140912T000000  1040000.0         5       3.25   \n",
            "...           ...              ...        ...       ...        ...   \n",
            "21590  7430200100  20140514T000000  1222500.0         4       3.50   \n",
            "21593  8672200110  20150317T000000  1088000.0         5       3.75   \n",
            "21597   191100405  20150421T000000  1575000.0         4       3.25   \n",
            "21600   249000205  20141015T000000  1537000.0         5       3.75   \n",
            "21606  7936000429  20150326T000000  1007500.0         4       3.50   \n",
            "\n",
            "       sqft_living  sqft_lot  floors  waterfront  view  ...  sqft_above  \\\n",
            "5             5420    101930     1.0           0     0  ...        3890   \n",
            "21            3050     44867     1.0           0     4  ...        2330   \n",
            "49            2753     65005     1.0           1     2  ...        2165   \n",
            "69            3200     20158     1.0           0     0  ...        1600   \n",
            "70            4770     50094     1.0           0     0  ...        3070   \n",
            "...            ...       ...     ...         ...   ...  ...         ...   \n",
            "21590         4910      9444     1.5           0     0  ...        3110   \n",
            "21593         4170      8142     2.0           0     2  ...        4170   \n",
            "21597         3410     10125     2.0           0     0  ...        3410   \n",
            "21600         4470      8088     2.0           0     0  ...        4470   \n",
            "21606         3510      7200     2.0           0     0  ...        2600   \n",
            "\n",
            "       sqft_basement  yr_built  yr_renovated  zipcode      lat     long  \\\n",
            "5               1530      2001             0    98053  47.6561 -122.005   \n",
            "21               720      1968             0    98040  47.5316 -122.233   \n",
            "49               588      1953             0    98070  47.4041 -122.451   \n",
            "69              1600      1965             0    98004  47.6303 -122.215   \n",
            "70              1700      1973             0    98005  47.6525 -122.160   \n",
            "...              ...       ...           ...      ...      ...      ...   \n",
            "21590           1800      2007             0    98074  47.6502 -122.066   \n",
            "21593              0      2006             0    98056  47.5354 -122.181   \n",
            "21597              0      2007             0    98040  47.5653 -122.223   \n",
            "21600              0      2008             0    98004  47.6321 -122.200   \n",
            "21606            910      2009             0    98136  47.5537 -122.398   \n",
            "\n",
            "       sqft_living15  sqft_lot15  new_col  \n",
            "5               4760      101930      0.0  \n",
            "21              4110       20336      0.0  \n",
            "49              2680       72513      0.0  \n",
            "69              3390       20158      0.0  \n",
            "70              3530       38917      0.0  \n",
            "...              ...         ...      ...  \n",
            "21590           4560       11063      0.0  \n",
            "21593           3030        7980      0.0  \n",
            "21597           2290       10125      0.0  \n",
            "21600           2780        8964      0.0  \n",
            "21606           2050        6200      0.0  \n",
            "\n",
            "[1465 rows x 22 columns]\n"
          ]
        }
      ]
    },
    {
      "cell_type": "markdown",
      "source": [
        "# ***Syntax cơ bản với matplotlib***"
      ],
      "metadata": {
        "id": "72tg6qQPSi3J"
      }
    },
    {
      "cell_type": "code",
      "source": [
        "import matplotlib.pyplot as plt"
      ],
      "metadata": {
        "id": "e7OSA0cBUgML"
      },
      "execution_count": 30,
      "outputs": []
    },
    {
      "cell_type": "code",
      "source": [
        "x = np.linspace(0, 10, 100)\n",
        "y = np.cos(x)"
      ],
      "metadata": {
        "id": "kLnevbhJUk6x"
      },
      "execution_count": 31,
      "outputs": []
    },
    {
      "cell_type": "code",
      "source": [
        "#cấu trúc vẽ đầy đủ\n",
        "plt.plot(x, y, label = \"cos(x)\")\n",
        "plt.title(\"Do thi cos(x)\")\n",
        "plt.xlabel(\"x\")\n",
        "plt.ylabel(\"y\")\n",
        "plt.legend()\n",
        "plt.show()"
      ],
      "metadata": {
        "colab": {
          "base_uri": "https://localhost:8080/",
          "height": 472
        },
        "id": "YaUHaYLJUqqp",
        "outputId": "0fb6195d-eb6f-4bb4-ac21-9852c08010ba"
      },
      "execution_count": 32,
      "outputs": [
        {
          "output_type": "display_data",
          "data": {
            "text/plain": [
              "<Figure size 640x480 with 1 Axes>"
            ],
            "image/png": "[encoded data removed]"
          },
          "metadata": {}
        }
      ]
    },
    {
      "cell_type": "code",
      "source": [
        "df.plot(x = \"bedrooms\", y = [\"price\", \"bathrooms\"], kind = \"line\", xlabel = 'x', ylabel = \"y\")\n",
        "plt.show()"
      ],
      "metadata": {
        "colab": {
          "base_uri": "https://localhost:8080/",
          "height": 465
        },
        "id": "3T4tAeBmVG-b",
        "outputId": "db04494e-631e-4667-8df5-a0e1560426dd"
      },
      "execution_count": 33,
      "outputs": [
        {
          "output_type": "display_data",
          "data": {
            "text/plain": [
              "<Figure size 640x480 with 1 Axes>"
            ],
            "image/png": "[encoded data removed]"
          },
          "metadata": {}
        }
      ]
    },
    {
      "cell_type": "code",
      "source": [
        "df.head(5).plot(x = \"price\", y = [\"bedrooms\", \"bathrooms\"], kind = \"bar\", xlabel = \"x\", ylabel = \"y\", legend = True)"
      ],
      "metadata": {
        "colab": {
          "base_uri": "https://localhost:8080/",
          "height": 527
        },
        "id": "AcBLbYCdVjgb",
        "outputId": "665d7a02-90d5-47de-c8b8-7d2d7f4a9c01"
      },
      "execution_count": 34,
      "outputs": [
        {
          "output_type": "execute_result",
          "data": {
            "text/plain": [
              "<Axes: xlabel='x', ylabel='y'>"
            ]
          },
          "metadata": {},
          "execution_count": 34
        },
        {
          "output_type": "display_data",
          "data": {
            "text/plain": [
              "<Figure size 640x480 with 1 Axes>"
            ],
            "image/png": "[encoded data removed]"
          },
          "metadata": {}
        }
      ]
    },
    {
      "cell_type": "markdown",
      "source": [
        "# ***Syntax cho scipy.stats***"
      ],
      "metadata": {
        "id": "2q-M_T3dGtg-"
      }
    },
    {
      "cell_type": "code",
      "source": [
        "from scipy import stats"
      ],
      "metadata": {
        "id": "SAN_zIPFNTXH"
      },
      "execution_count": 35,
      "outputs": []
    },
    {
      "cell_type": "code",
      "source": [
        "mode = stats.mode(df[\"price\"], keepdims = True)\n",
        "print(mode.mode[0])"
      ],
      "metadata": {
        "colab": {
          "base_uri": "https://localhost:8080/"
        },
        "id": "D0Y6Zq0FNcwX",
        "outputId": "5a16a319-4dac-4e23-c26e-ad41cdb814b8"
      },
      "execution_count": 39,
      "outputs": [
        {
          "output_type": "stream",
          "name": "stdout",
          "text": [
            "350000.0\n"
          ]
        }
      ]
    },
    {
      "cell_type": "code",
      "source": [
        "p = 0.3\n",
        "print(stats.bernoulli.pmf(1,p))\n",
        "print(stats.bernoulli.rvs(p, size = 10))"
      ],
      "metadata": {
        "colab": {
          "base_uri": "https://localhost:8080/"
        },
        "id": "X2A5cctsNoEP",
        "outputId": "87df86a2-e153-4d84-b5fd-74d41278bcbc"
      },
      "execution_count": 42,
      "outputs": [
        {
          "output_type": "stream",
          "name": "stdout",
          "text": [
            "0.3\n",
            "[0 0 1 1 1 1 0 0 0 0]\n"
          ]
        }
      ]
    },
    {
      "cell_type": "code",
      "source": [
        "n, p = 10, 0.3\n",
        "k = np.arange(0, n+1)\n",
        "pmf = stats.binom.pmf(k, n, p)\n",
        "plt.stem(k, pmf)"
      ],
      "metadata": {
        "colab": {
          "base_uri": "https://localhost:8080/",
          "height": 447
        },
        "id": "fvzPFRHQP2UN",
        "outputId": "4751aca5-883f-492e-edf2-b21d9b58899c"
      },
      "execution_count": 54,
      "outputs": [
        {
          "output_type": "execute_result",
          "data": {
            "text/plain": [
              "<StemContainer object of 3 artists>"
            ]
          },
          "metadata": {},
          "execution_count": 54
        },
        {
          "output_type": "display_data",
          "data": {
            "text/plain": [
              "<Figure size 640x480 with 1 Axes>"
            ],
            "image/png": "[encoded data removed]"
          },
          "metadata": {}
        }
      ]
    },
    {
      "cell_type": "code",
      "source": [
        "lamda = 3\n",
        "k = np.arange(0,11)\n",
        "pmf = stats.poisson.pmf(k, lamda)\n",
        "plt.stem(k, pmf)"
      ],
      "metadata": {
        "colab": {
          "base_uri": "https://localhost:8080/",
          "height": 447
        },
        "id": "P9Oy6rUTQL0K",
        "outputId": "7953d720-b09c-427a-b23f-45bba247ae7b"
      },
      "execution_count": 64,
      "outputs": [
        {
          "output_type": "execute_result",
          "data": {
            "text/plain": [
              "<StemContainer object of 3 artists>"
            ]
          },
          "metadata": {},
          "execution_count": 64
        },
        {
          "output_type": "display_data",
          "data": {
            "text/plain": [
              "<Figure size 640x480 with 1 Axes>"
            ],
            "image/png": "[encoded data removed]"
          },
          "metadata": {}
        }
      ]
    },
    {
      "cell_type": "code",
      "source": [
        "a, b = 0, 10\n",
        "x = np.linspace(a-0.5, b+0.5, 30)\n",
        "pdf = stats.uniform.pdf(x, loc = a, scale = b-a)\n",
        "plt.plot(x, pdf)"
      ],
      "metadata": {
        "colab": {
          "base_uri": "https://localhost:8080/",
          "height": 447
        },
        "id": "ENcu-DPJRsqP",
        "outputId": "7b0fbcd1-b2d7-4590-e506-2b1dbeedabb8"
      },
      "execution_count": 69,
      "outputs": [
        {
          "output_type": "execute_result",
          "data": {
            "text/plain": [
              "[<matplotlib.lines.Line2D at 0x7fe7ef088d70>]"
            ]
          },
          "metadata": {},
          "execution_count": 69
        },
        {
          "output_type": "display_data",
          "data": {
            "text/plain": [
              "<Figure size 640x480 with 1 Axes>"
            ],
            "image/png": "[encoded data removed]"
          },
          "metadata": {}
        }
      ]
    },
    {
      "cell_type": "code",
      "source": [
        "x = np.linspace(-4, 4, 400)\n",
        "from scipy.stats import norm\n",
        "pdf = norm.pdf(x, loc = 0, scale = 1)\n",
        "plt.plot(x, pdf)"
      ],
      "metadata": {
        "colab": {
          "base_uri": "https://localhost:8080/",
          "height": 447
        },
        "id": "3RU4nxAlTOAr",
        "outputId": "fa7b887b-dc83-4ead-d141-401641b15515"
      },
      "execution_count": 77,
      "outputs": [
        {
          "output_type": "execute_result",
          "data": {
            "text/plain": [
              "[<matplotlib.lines.Line2D at 0x7fe7ef3240e0>]"
            ]
          },
          "metadata": {},
          "execution_count": 77
        },
        {
          "output_type": "display_data",
          "data": {
            "text/plain": [
              "<Figure size 640x480 with 1 Axes>"
            ],
            "image/png": "[encoded data removed]"
          },
          "metadata": {}
        }
      ]
    },
    {
      "cell_type": "code",
      "source": [
        "loc, scale = norm.fit(df[\"price\"])\n",
        "x  = np.linspace(min(df[\"price\"]), max(df[\"price\"]), 200)\n",
        "plt.plot(x, norm.pdf(x, loc, scale))"
      ],
      "metadata": {
        "colab": {
          "base_uri": "https://localhost:8080/",
          "height": 480
        },
        "id": "A4wRl7B0fQ47",
        "outputId": "fb60d0e1-3380-4a6a-fa71-5e2ec5d3c649"
      },
      "execution_count": 80,
      "outputs": [
        {
          "output_type": "execute_result",
          "data": {
            "text/plain": [
              "[<matplotlib.lines.Line2D at 0x7fe7eec51cd0>]"
            ]
          },
          "metadata": {},
          "execution_count": 80
        },
        {
          "output_type": "display_data",
          "data": {
            "text/plain": [
              "<Figure size 640x480 with 1 Axes>"
            ],
            "image/png": "[encoded data removed]"
          },
          "metadata": {}
        }
      ]
    },
    {
      "cell_type": "code",
      "source": [
        "p = norm.cdf(10000000, loc, scale) - norm.cdf(100000, loc, scale)   #xác suất 100000 <= price <= 10000000\n",
        "print(p)"
      ],
      "metadata": {
        "colab": {
          "base_uri": "https://localhost:8080/"
        },
        "id": "QQo7xs2Wf80F",
        "outputId": "bcf32b09-a9fb-48bf-ea82-932c61ac6a52"
      },
      "execution_count": 82,
      "outputs": [
        {
          "output_type": "stream",
          "name": "stdout",
          "text": [
            "0.884691675170055\n"
          ]
        }
      ]
    }
  ]
}